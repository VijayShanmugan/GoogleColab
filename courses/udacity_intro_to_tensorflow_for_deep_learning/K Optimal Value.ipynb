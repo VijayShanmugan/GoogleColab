{
  "nbformat": 4,
  "nbformat_minor": 0,
  "metadata": {
    "accelerator": "GPU",
    "colab": {
      "name": "l01c01_introduction_to_colab_and_python.ipynb",
      "provenance": [],
      "collapsed_sections": [],
      "toc_visible": true
    },
    "kernelspec": {
      "display_name": "Python 3",
      "name": "python3"
    }
  },
  "cells": [
    {
      "cell_type": "markdown",
      "metadata": {
        "id": "Za8-Nr5k11fh"
      },
      "source": [
        "##### Copyright 2018 The TensorFlow Authors."
      ]
    },
    {
      "cell_type": "markdown",
      "metadata": {
        "id": "IiSbcBZZq-Kf"
      },
      "source": [
        "**Finding K Optimal Value**\n",
        "\n",
        "Dataset link - https://raw.githubusercontent.com/VijayShanmugan/Datasets/main/collegePlace.csv "
      ]
    },
    {
      "cell_type": "code",
      "metadata": {
        "id": "dQCFMgDerFim"
      },
      "source": [
        "import itertools\n",
        "import numpy as np\n",
        "import matplotlib.pyplot as plt\n",
        "from matplotlib.ticker import NullFormatter\n",
        "import pandas as pd\n",
        "import numpy as np\n",
        "import matplotlib.ticker as ticker\n",
        "from sklearn import preprocessing\n",
        "%matplotlib inline"
      ],
      "execution_count": 9,
      "outputs": []
    },
    {
      "cell_type": "code",
      "metadata": {
        "colab": {
          "base_uri": "https://localhost:8080/",
          "height": 203
        },
        "id": "Z11KwwZurY3b",
        "outputId": "aed75da9-8080-4db5-c943-4cf43242e26f"
      },
      "source": [
        "df = pd.read_csv('https://raw.githubusercontent.com/VijayShanmugan/Datasets/main/collegePlace.csv')\n",
        "df.head()"
      ],
      "execution_count": 11,
      "outputs": [
        {
          "output_type": "execute_result",
          "data": {
            "text/html": [
              "<div>\n",
              "<style scoped>\n",
              "    .dataframe tbody tr th:only-of-type {\n",
              "        vertical-align: middle;\n",
              "    }\n",
              "\n",
              "    .dataframe tbody tr th {\n",
              "        vertical-align: top;\n",
              "    }\n",
              "\n",
              "    .dataframe thead th {\n",
              "        text-align: right;\n",
              "    }\n",
              "</style>\n",
              "<table border=\"1\" class=\"dataframe\">\n",
              "  <thead>\n",
              "    <tr style=\"text-align: right;\">\n",
              "      <th></th>\n",
              "      <th>Age</th>\n",
              "      <th>Gender</th>\n",
              "      <th>Internships</th>\n",
              "      <th>CGPA</th>\n",
              "      <th>Hostel</th>\n",
              "      <th>HistoryOfBacklogs</th>\n",
              "      <th>PlacedOrNot</th>\n",
              "    </tr>\n",
              "  </thead>\n",
              "  <tbody>\n",
              "    <tr>\n",
              "      <th>0</th>\n",
              "      <td>22</td>\n",
              "      <td>1</td>\n",
              "      <td>1</td>\n",
              "      <td>8</td>\n",
              "      <td>1</td>\n",
              "      <td>1</td>\n",
              "      <td>1</td>\n",
              "    </tr>\n",
              "    <tr>\n",
              "      <th>1</th>\n",
              "      <td>21</td>\n",
              "      <td>0</td>\n",
              "      <td>0</td>\n",
              "      <td>7</td>\n",
              "      <td>1</td>\n",
              "      <td>1</td>\n",
              "      <td>1</td>\n",
              "    </tr>\n",
              "    <tr>\n",
              "      <th>2</th>\n",
              "      <td>22</td>\n",
              "      <td>0</td>\n",
              "      <td>1</td>\n",
              "      <td>6</td>\n",
              "      <td>0</td>\n",
              "      <td>0</td>\n",
              "      <td>1</td>\n",
              "    </tr>\n",
              "    <tr>\n",
              "      <th>3</th>\n",
              "      <td>21</td>\n",
              "      <td>1</td>\n",
              "      <td>0</td>\n",
              "      <td>8</td>\n",
              "      <td>0</td>\n",
              "      <td>1</td>\n",
              "      <td>1</td>\n",
              "    </tr>\n",
              "    <tr>\n",
              "      <th>4</th>\n",
              "      <td>22</td>\n",
              "      <td>1</td>\n",
              "      <td>0</td>\n",
              "      <td>8</td>\n",
              "      <td>1</td>\n",
              "      <td>0</td>\n",
              "      <td>1</td>\n",
              "    </tr>\n",
              "  </tbody>\n",
              "</table>\n",
              "</div>"
            ],
            "text/plain": [
              "   Age  Gender  Internships  CGPA  Hostel  HistoryOfBacklogs  PlacedOrNot\n",
              "0   22       1            1     8       1                  1            1\n",
              "1   21       0            0     7       1                  1            1\n",
              "2   22       0            1     6       0                  0            1\n",
              "3   21       1            0     8       0                  1            1\n",
              "4   22       1            0     8       1                  0            1"
            ]
          },
          "metadata": {},
          "execution_count": 11
        }
      ]
    },
    {
      "cell_type": "code",
      "metadata": {
        "colab": {
          "base_uri": "https://localhost:8080/"
        },
        "id": "RhLsqSXvrrWV",
        "outputId": "ea5d768c-3b93-4899-d5b9-22c9deb43dc4"
      },
      "source": [
        "df.columns, df.shape"
      ],
      "execution_count": 12,
      "outputs": [
        {
          "output_type": "execute_result",
          "data": {
            "text/plain": [
              "(Index(['Age', 'Gender', 'Internships', 'CGPA', 'Hostel', 'HistoryOfBacklogs',\n",
              "        'PlacedOrNot'],\n",
              "       dtype='object'), (2966, 7))"
            ]
          },
          "metadata": {},
          "execution_count": 12
        }
      ]
    },
    {
      "cell_type": "code",
      "metadata": {
        "colab": {
          "base_uri": "https://localhost:8080/"
        },
        "id": "z1whjruMrxkt",
        "outputId": "2a1de02f-245f-4212-8069-61c2f8068dab"
      },
      "source": [
        "df['CGPA'].value_counts()"
      ],
      "execution_count": 13,
      "outputs": [
        {
          "output_type": "execute_result",
          "data": {
            "text/plain": [
              "7    956\n",
              "8    915\n",
              "6    834\n",
              "9    165\n",
              "5     96\n",
              "Name: CGPA, dtype: int64"
            ]
          },
          "metadata": {},
          "execution_count": 13
        }
      ]
    },
    {
      "cell_type": "code",
      "metadata": {
        "colab": {
          "base_uri": "https://localhost:8080/",
          "height": 203
        },
        "id": "DEVRJOgTr2NV",
        "outputId": "5f87b336-42af-45e9-fc27-afc4070bdfb7"
      },
      "source": [
        "X = df.drop(['CGPA'], axis = 1)\n",
        "X.head()"
      ],
      "execution_count": 14,
      "outputs": [
        {
          "output_type": "execute_result",
          "data": {
            "text/html": [
              "<div>\n",
              "<style scoped>\n",
              "    .dataframe tbody tr th:only-of-type {\n",
              "        vertical-align: middle;\n",
              "    }\n",
              "\n",
              "    .dataframe tbody tr th {\n",
              "        vertical-align: top;\n",
              "    }\n",
              "\n",
              "    .dataframe thead th {\n",
              "        text-align: right;\n",
              "    }\n",
              "</style>\n",
              "<table border=\"1\" class=\"dataframe\">\n",
              "  <thead>\n",
              "    <tr style=\"text-align: right;\">\n",
              "      <th></th>\n",
              "      <th>Age</th>\n",
              "      <th>Gender</th>\n",
              "      <th>Internships</th>\n",
              "      <th>Hostel</th>\n",
              "      <th>HistoryOfBacklogs</th>\n",
              "      <th>PlacedOrNot</th>\n",
              "    </tr>\n",
              "  </thead>\n",
              "  <tbody>\n",
              "    <tr>\n",
              "      <th>0</th>\n",
              "      <td>22</td>\n",
              "      <td>1</td>\n",
              "      <td>1</td>\n",
              "      <td>1</td>\n",
              "      <td>1</td>\n",
              "      <td>1</td>\n",
              "    </tr>\n",
              "    <tr>\n",
              "      <th>1</th>\n",
              "      <td>21</td>\n",
              "      <td>0</td>\n",
              "      <td>0</td>\n",
              "      <td>1</td>\n",
              "      <td>1</td>\n",
              "      <td>1</td>\n",
              "    </tr>\n",
              "    <tr>\n",
              "      <th>2</th>\n",
              "      <td>22</td>\n",
              "      <td>0</td>\n",
              "      <td>1</td>\n",
              "      <td>0</td>\n",
              "      <td>0</td>\n",
              "      <td>1</td>\n",
              "    </tr>\n",
              "    <tr>\n",
              "      <th>3</th>\n",
              "      <td>21</td>\n",
              "      <td>1</td>\n",
              "      <td>0</td>\n",
              "      <td>0</td>\n",
              "      <td>1</td>\n",
              "      <td>1</td>\n",
              "    </tr>\n",
              "    <tr>\n",
              "      <th>4</th>\n",
              "      <td>22</td>\n",
              "      <td>1</td>\n",
              "      <td>0</td>\n",
              "      <td>1</td>\n",
              "      <td>0</td>\n",
              "      <td>1</td>\n",
              "    </tr>\n",
              "  </tbody>\n",
              "</table>\n",
              "</div>"
            ],
            "text/plain": [
              "   Age  Gender  Internships  Hostel  HistoryOfBacklogs  PlacedOrNot\n",
              "0   22       1            1       1                  1            1\n",
              "1   21       0            0       1                  1            1\n",
              "2   22       0            1       0                  0            1\n",
              "3   21       1            0       0                  1            1\n",
              "4   22       1            0       1                  0            1"
            ]
          },
          "metadata": {},
          "execution_count": 14
        }
      ]
    },
    {
      "cell_type": "code",
      "metadata": {
        "colab": {
          "base_uri": "https://localhost:8080/"
        },
        "id": "W3eqwjsLr6DG",
        "outputId": "ee0647a6-4908-4ada-bc9c-0f550d2f7f9d"
      },
      "source": [
        "y = df['CGPA']\n",
        "y.head()"
      ],
      "execution_count": 15,
      "outputs": [
        {
          "output_type": "execute_result",
          "data": {
            "text/plain": [
              "0    8\n",
              "1    7\n",
              "2    6\n",
              "3    8\n",
              "4    8\n",
              "Name: CGPA, dtype: int64"
            ]
          },
          "metadata": {},
          "execution_count": 15
        }
      ]
    },
    {
      "cell_type": "code",
      "metadata": {
        "id": "dNW0ThLcr-oZ"
      },
      "source": [
        "X = preprocessing.StandardScaler().fit(X).transform(X.astype(float))"
      ],
      "execution_count": 16,
      "outputs": []
    },
    {
      "cell_type": "code",
      "metadata": {
        "colab": {
          "base_uri": "https://localhost:8080/"
        },
        "id": "o2rM0gVJsB73",
        "outputId": "4723513b-842e-477f-bccc-0f43b4f45e92"
      },
      "source": [
        "from sklearn.model_selection import train_test_split\n",
        "X_train, X_test, y_train, y_test = train_test_split( X, y, test_size=0.2, random_state=4)\n",
        "print ('Train set:', X_train.shape,  y_train.shape)\n",
        "print ('Test set:', X_test.shape,  y_test.shape)"
      ],
      "execution_count": 17,
      "outputs": [
        {
          "output_type": "stream",
          "name": "stdout",
          "text": [
            "Train set: (2372, 6) (2372,)\n",
            "Test set: (594, 6) (594,)\n"
          ]
        }
      ]
    },
    {
      "cell_type": "code",
      "metadata": {
        "id": "o2i0YfArsF7G"
      },
      "source": [
        "from sklearn.neighbors import KNeighborsClassifier\n",
        "from sklearn import metrics\n",
        "k = 4\n",
        "#Train Model and Predict  \n",
        "neigh = KNeighborsClassifier(n_neighbors = k).fit(X_train,y_train)\n",
        "Pred_y = neigh.predict(X_test)"
      ],
      "execution_count": 18,
      "outputs": []
    },
    {
      "cell_type": "code",
      "metadata": {
        "colab": {
          "base_uri": "https://localhost:8080/"
        },
        "id": "saFsM2wSsJoL",
        "outputId": "7877c987-9695-4c60-e71a-d3ed28546be8"
      },
      "source": [
        "print(\"Accuracy of model at K=4 is\",metrics.accuracy_score(y_test, Pred_y))"
      ],
      "execution_count": 19,
      "outputs": [
        {
          "output_type": "stream",
          "name": "stdout",
          "text": [
            "Accuracy of model at K=4 is 0.4781144781144781\n"
          ]
        }
      ]
    },
    {
      "cell_type": "code",
      "metadata": {
        "colab": {
          "base_uri": "https://localhost:8080/"
        },
        "id": "OZYAIB1xsWDn",
        "outputId": "d7e42e73-3b98-46ba-9bca-fa41adfd6e4c"
      },
      "source": [
        "Pred_y"
      ],
      "execution_count": 20,
      "outputs": [
        {
          "output_type": "execute_result",
          "data": {
            "text/plain": [
              "array([8, 8, 8, 6, 8, 6, 6, 8, 7, 6, 6, 6, 7, 6, 7, 6, 6, 8, 7, 7, 7, 6,\n",
              "       7, 7, 6, 8, 8, 6, 8, 6, 8, 6, 7, 6, 8, 8, 8, 7, 7, 7, 6, 8, 6, 8,\n",
              "       6, 7, 6, 8, 7, 5, 6, 7, 7, 6, 6, 7, 6, 6, 8, 6, 7, 8, 7, 7, 6, 6,\n",
              "       6, 8, 8, 7, 7, 8, 8, 8, 6, 7, 8, 7, 6, 7, 6, 8, 6, 6, 6, 6, 7, 7,\n",
              "       8, 6, 6, 8, 8, 6, 8, 7, 6, 7, 6, 6, 7, 8, 8, 7, 8, 8, 7, 6, 6, 8,\n",
              "       7, 7, 7, 7, 8, 8, 8, 8, 8, 8, 6, 6, 8, 8, 7, 8, 6, 6, 8, 8, 6, 7,\n",
              "       6, 7, 8, 8, 6, 7, 7, 8, 8, 6, 7, 8, 8, 7, 7, 8, 6, 6, 8, 8, 6, 7,\n",
              "       6, 8, 7, 6, 8, 7, 8, 6, 8, 6, 6, 7, 7, 7, 7, 6, 8, 7, 6, 8, 6, 6,\n",
              "       7, 7, 6, 8, 7, 8, 6, 8, 7, 7, 8, 8, 6, 7, 8, 7, 6, 6, 8, 8, 8, 6,\n",
              "       8, 8, 6, 8, 6, 6, 8, 6, 7, 8, 8, 6, 6, 7, 8, 8, 6, 7, 6, 8, 8, 8,\n",
              "       7, 8, 8, 8, 6, 8, 6, 6, 8, 7, 7, 7, 8, 6, 9, 8, 8, 8, 6, 6, 6, 8,\n",
              "       8, 7, 8, 8, 7, 8, 6, 6, 8, 6, 8, 6, 8, 7, 8, 6, 6, 6, 7, 8, 8, 8,\n",
              "       6, 8, 6, 6, 7, 6, 8, 6, 7, 7, 8, 8, 8, 7, 6, 5, 8, 7, 6, 8, 6, 6,\n",
              "       6, 8, 8, 6, 7, 5, 8, 8, 7, 8, 6, 7, 7, 7, 8, 6, 6, 8, 6, 6, 8, 8,\n",
              "       8, 7, 8, 7, 6, 6, 6, 8, 6, 7, 7, 6, 7, 6, 7, 7, 6, 6, 6, 8, 6, 6,\n",
              "       8, 6, 8, 6, 8, 7, 7, 8, 6, 6, 7, 6, 8, 6, 7, 8, 7, 6, 7, 6, 7, 6,\n",
              "       7, 6, 6, 8, 8, 8, 7, 7, 8, 8, 8, 8, 6, 7, 8, 6, 5, 6, 7, 8, 6, 8,\n",
              "       7, 7, 8, 6, 6, 8, 8, 7, 6, 6, 6, 7, 6, 6, 8, 8, 6, 7, 6, 7, 7, 7,\n",
              "       8, 8, 5, 8, 7, 8, 8, 6, 6, 7, 8, 7, 8, 8, 6, 6, 7, 8, 7, 7, 8, 8,\n",
              "       7, 6, 7, 6, 6, 8, 8, 8, 8, 7, 6, 6, 6, 7, 6, 6, 8, 8, 7, 6, 7, 6,\n",
              "       6, 8, 8, 6, 8, 6, 7, 7, 7, 7, 7, 6, 8, 6, 6, 6, 7, 7, 8, 8, 8, 8,\n",
              "       6, 6, 6, 8, 7, 8, 8, 7, 6, 8, 6, 8, 6, 6, 6, 7, 8, 6, 7, 7, 6, 6,\n",
              "       8, 8, 8, 5, 6, 6, 8, 7, 8, 8, 6, 6, 8, 5, 8, 6, 8, 8, 8, 6, 8, 5,\n",
              "       6, 6, 8, 8, 7, 8, 8, 8, 5, 5, 6, 8, 8, 8, 7, 8, 7, 6, 7, 7, 7, 6,\n",
              "       8, 8, 8, 7, 7, 6, 8, 7, 6, 8, 8, 8, 6, 8, 6, 8, 7, 6, 8, 8, 6, 6,\n",
              "       7, 8, 8, 6, 8, 8, 7, 8, 7, 6, 6, 8, 6, 5, 6, 8, 7, 6, 7, 5, 8, 8,\n",
              "       6, 7, 7, 6, 6, 8, 7, 7, 7, 6, 7, 6, 6, 8, 7, 7, 6, 6, 8, 7, 8, 8])"
            ]
          },
          "metadata": {},
          "execution_count": 20
        }
      ]
    },
    {
      "cell_type": "code",
      "metadata": {
        "colab": {
          "base_uri": "https://localhost:8080/",
          "height": 421
        },
        "id": "AXM0vkfysbKF",
        "outputId": "51c23db9-fab9-41e1-b152-32427ed725ae"
      },
      "source": [
        "Ks = 40\n",
        "error_rate = []\n",
        "for i in range(1,40):\n",
        " \n",
        " knn = KNeighborsClassifier(n_neighbors=i)\n",
        " knn.fit(X_train,y_train)\n",
        " pred_i = knn.predict(X_test)\n",
        " error_rate.append(np.mean(pred_i != y_test))\n",
        "\n",
        "plt.figure(figsize=(10,6))\n",
        "plt.plot(range(1,40),error_rate,color='blue', linestyle='dashed', marker='o',markerfacecolor='red', markersize=10)\n",
        "plt.title('Error Rate vs. K Value')\n",
        "plt.xlabel('K')\n",
        "plt.ylabel('Error Rate')\n",
        "\n",
        "print(\"Minimum error:-\",min(error_rate),\"at K =\",error_rate.index(min(error_rate)))"
      ],
      "execution_count": 21,
      "outputs": [
        {
          "output_type": "stream",
          "name": "stdout",
          "text": [
            "Minimum error:- 0.4562289562289562 at K = 28\n"
          ]
        },
        {
          "output_type": "display_data",
          "data": {
            "image/png": "[encoded data removed]",
            "text/plain": [
              "<Figure size 720x432 with 1 Axes>"
            ]
          },
          "metadata": {
            "needs_background": "light"
          }
        }
      ]
    },
    {
      "cell_type": "code",
      "metadata": {
        "id": "GFg69cgKsg8-"
      },
      "source": [
        "acc = []\n",
        "from sklearn import metrics\n",
        "for i in range(1,40):\n",
        "    neigh = KNeighborsClassifier(n_neighbors = i).fit(X_train,y_train)\n",
        "    yhat = neigh.predict(X_test)\n",
        "    acc.append(metrics.accuracy_score(y_test, yhat))"
      ],
      "execution_count": 22,
      "outputs": []
    },
    {
      "cell_type": "code",
      "metadata": {
        "colab": {
          "base_uri": "https://localhost:8080/",
          "height": 421
        },
        "id": "fttYs8AlsjmH",
        "outputId": "ea118930-f77d-4da6-f55f-dd423108540b"
      },
      "source": [
        "plt.figure(figsize=(10,6))\n",
        "plt.plot(range(1,40),acc,color = 'blue',linestyle='dashed', marker='o',markerfacecolor='red', markersize=10)\n",
        "plt.title('accuracy vs. K Value')\n",
        "plt.xlabel('K')\n",
        "plt.ylabel('Accuracy')\n",
        "\n",
        "print(\"Maximum accuracy:-\",max(acc),\"at K =\",acc.index(max(acc)))"
      ],
      "execution_count": 23,
      "outputs": [
        {
          "output_type": "stream",
          "name": "stdout",
          "text": [
            "Maximum accuracy:- 0.5437710437710438 at K = 28\n"
          ]
        },
        {
          "output_type": "display_data",
          "data": {
            "image/png": "[encoded data removed]",
            "text/plain": [
              "<Figure size 720x432 with 1 Axes>"
            ]
          },
          "metadata": {
            "needs_background": "light"
          }
        }
      ]
    },
    {
      "cell_type": "markdown",
      "metadata": {
        "id": "rbgBdB2isyG4"
      },
      "source": [
        "**CONCLUSION: OPTIMAL K VALUE FOR THE GIVEN DATASET - 28**"
      ]
    }
  ]
}