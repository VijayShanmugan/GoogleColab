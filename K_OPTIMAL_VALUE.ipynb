{
  "nbformat": 4,
  "nbformat_minor": 0,
  "metadata": {
    "accelerator": "GPU",
    "colab": {
      "name": "K OPTIMAL VALUE.ipynb",
      "provenance": [],
      "collapsed_sections": [],
      "toc_visible": true,
      "include_colab_link": true
    },
    "kernelspec": {
      "display_name": "Python 3",
      "name": "python3"
    }
  },
  "cells": [
    {
      "cell_type": "markdown",
      "metadata": {
        "id": "view-in-github",
        "colab_type": "text"
      },
      "source": [
        "<a href=\"https://colab.research.google.com/github/VijayShanmugan/GoogleColab/blob/main/K_OPTIMAL_VALUE.ipynb\" target=\"_parent\"><img src=\"https://colab.research.google.com/assets/colab-badge.svg\" alt=\"Open In Colab\"/></a>"
      ]
    },
    {
      "cell_type": "markdown",
      "metadata": {
        "id": "Za8-Nr5k11fh"
      },
      "source": [
        "##### Copyright 2018 The TensorFlow Authors."
      ]
    },
    {
      "cell_type": "markdown",
      "metadata": {
        "id": "9XZsRBA-SYgY"
      },
      "source": [
        "**Finding K Optimal Value**\n",
        "\n",
        "Dataset link : https://raw.githubusercontent.com/VijayShanmugan/Datasets/main/insurance_m.csv"
      ]
    },
    {
      "cell_type": "code",
      "metadata": {
        "id": "uo_tRkxQSdiq"
      },
      "source": [
        "import itertools\n",
        "import numpy as np\n",
        "import matplotlib.pyplot as plt\n",
        "from matplotlib.ticker import NullFormatter\n",
        "import pandas as pd\n",
        "import numpy as np\n",
        "import matplotlib.ticker as ticker\n",
        "from sklearn import preprocessing\n",
        "%matplotlib inline"
      ],
      "execution_count": 1,
      "outputs": []
    },
    {
      "cell_type": "code",
      "metadata": {
        "id": "G452Ta0BSiGd",
        "colab": {
          "base_uri": "https://localhost:8080/",
          "height": 203
        },
        "outputId": "1d9a8f34-1bfc-4eb8-c7cf-3daee7fb40da"
      },
      "source": [
        "df = pd.read_csv('https://raw.githubusercontent.com/VijayShanmugan/Datasets/main/insurance_m.csv')\n",
        "df.head()"
      ],
      "execution_count": 2,
      "outputs": [
        {
          "output_type": "execute_result",
          "data": {
            "text/html": [
              "<div>\n",
              "<style scoped>\n",
              "    .dataframe tbody tr th:only-of-type {\n",
              "        vertical-align: middle;\n",
              "    }\n",
              "\n",
              "    .dataframe tbody tr th {\n",
              "        vertical-align: top;\n",
              "    }\n",
              "\n",
              "    .dataframe thead th {\n",
              "        text-align: right;\n",
              "    }\n",
              "</style>\n",
              "<table border=\"1\" class=\"dataframe\">\n",
              "  <thead>\n",
              "    <tr style=\"text-align: right;\">\n",
              "      <th></th>\n",
              "      <th>age</th>\n",
              "      <th>sex</th>\n",
              "      <th>bmi</th>\n",
              "      <th>children</th>\n",
              "      <th>smoker</th>\n",
              "      <th>region</th>\n",
              "    </tr>\n",
              "  </thead>\n",
              "  <tbody>\n",
              "    <tr>\n",
              "      <th>0</th>\n",
              "      <td>19</td>\n",
              "      <td>0</td>\n",
              "      <td>27.900</td>\n",
              "      <td>0</td>\n",
              "      <td>1</td>\n",
              "      <td>1</td>\n",
              "    </tr>\n",
              "    <tr>\n",
              "      <th>1</th>\n",
              "      <td>18</td>\n",
              "      <td>1</td>\n",
              "      <td>33.770</td>\n",
              "      <td>1</td>\n",
              "      <td>0</td>\n",
              "      <td>0</td>\n",
              "    </tr>\n",
              "    <tr>\n",
              "      <th>2</th>\n",
              "      <td>28</td>\n",
              "      <td>1</td>\n",
              "      <td>33.000</td>\n",
              "      <td>3</td>\n",
              "      <td>0</td>\n",
              "      <td>3</td>\n",
              "    </tr>\n",
              "    <tr>\n",
              "      <th>3</th>\n",
              "      <td>33</td>\n",
              "      <td>1</td>\n",
              "      <td>22.705</td>\n",
              "      <td>0</td>\n",
              "      <td>0</td>\n",
              "      <td>2</td>\n",
              "    </tr>\n",
              "    <tr>\n",
              "      <th>4</th>\n",
              "      <td>32</td>\n",
              "      <td>1</td>\n",
              "      <td>28.880</td>\n",
              "      <td>0</td>\n",
              "      <td>0</td>\n",
              "      <td>2</td>\n",
              "    </tr>\n",
              "  </tbody>\n",
              "</table>\n",
              "</div>"
            ],
            "text/plain": [
              "   age  sex     bmi  children  smoker  region\n",
              "0   19    0  27.900         0       1       1\n",
              "1   18    1  33.770         1       0       0\n",
              "2   28    1  33.000         3       0       3\n",
              "3   33    1  22.705         0       0       2\n",
              "4   32    1  28.880         0       0       2"
            ]
          },
          "metadata": {},
          "execution_count": 2
        }
      ]
    },
    {
      "cell_type": "code",
      "metadata": {
        "id": "Dc8Q6L2ySo-a",
        "colab": {
          "base_uri": "https://localhost:8080/"
        },
        "outputId": "9f74d94b-ed78-4213-ae6e-254f7e595776"
      },
      "source": [
        "df.columns, df.shape"
      ],
      "execution_count": 3,
      "outputs": [
        {
          "output_type": "execute_result",
          "data": {
            "text/plain": [
              "(Index(['age', 'sex', 'bmi', 'children', 'smoker', 'region'], dtype='object'),\n",
              " (1338, 6))"
            ]
          },
          "metadata": {},
          "execution_count": 3
        }
      ]
    },
    {
      "cell_type": "code",
      "metadata": {
        "id": "7XXmWoTNSrBI",
        "colab": {
          "base_uri": "https://localhost:8080/"
        },
        "outputId": "9fdffbcd-3a2b-422c-e66b-b3b21abfeaf6"
      },
      "source": [
        "df['region'].value_counts()"
      ],
      "execution_count": 4,
      "outputs": [
        {
          "output_type": "execute_result",
          "data": {
            "text/plain": [
              "0    363\n",
              "3    325\n",
              "2    325\n",
              "1    325\n",
              "Name: region, dtype: int64"
            ]
          },
          "metadata": {},
          "execution_count": 4
        }
      ]
    },
    {
      "cell_type": "code",
      "metadata": {
        "id": "oVPWggnkSwBc",
        "colab": {
          "base_uri": "https://localhost:8080/",
          "height": 203
        },
        "outputId": "00bb9292-be0d-49ea-b99c-b10e059ee8d5"
      },
      "source": [
        "X = df.drop(['region'], axis = 1)\n",
        "X.head()"
      ],
      "execution_count": 5,
      "outputs": [
        {
          "output_type": "execute_result",
          "data": {
            "text/html": [
              "<div>\n",
              "<style scoped>\n",
              "    .dataframe tbody tr th:only-of-type {\n",
              "        vertical-align: middle;\n",
              "    }\n",
              "\n",
              "    .dataframe tbody tr th {\n",
              "        vertical-align: top;\n",
              "    }\n",
              "\n",
              "    .dataframe thead th {\n",
              "        text-align: right;\n",
              "    }\n",
              "</style>\n",
              "<table border=\"1\" class=\"dataframe\">\n",
              "  <thead>\n",
              "    <tr style=\"text-align: right;\">\n",
              "      <th></th>\n",
              "      <th>age</th>\n",
              "      <th>sex</th>\n",
              "      <th>bmi</th>\n",
              "      <th>children</th>\n",
              "      <th>smoker</th>\n",
              "    </tr>\n",
              "  </thead>\n",
              "  <tbody>\n",
              "    <tr>\n",
              "      <th>0</th>\n",
              "      <td>19</td>\n",
              "      <td>0</td>\n",
              "      <td>27.900</td>\n",
              "      <td>0</td>\n",
              "      <td>1</td>\n",
              "    </tr>\n",
              "    <tr>\n",
              "      <th>1</th>\n",
              "      <td>18</td>\n",
              "      <td>1</td>\n",
              "      <td>33.770</td>\n",
              "      <td>1</td>\n",
              "      <td>0</td>\n",
              "    </tr>\n",
              "    <tr>\n",
              "      <th>2</th>\n",
              "      <td>28</td>\n",
              "      <td>1</td>\n",
              "      <td>33.000</td>\n",
              "      <td>3</td>\n",
              "      <td>0</td>\n",
              "    </tr>\n",
              "    <tr>\n",
              "      <th>3</th>\n",
              "      <td>33</td>\n",
              "      <td>1</td>\n",
              "      <td>22.705</td>\n",
              "      <td>0</td>\n",
              "      <td>0</td>\n",
              "    </tr>\n",
              "    <tr>\n",
              "      <th>4</th>\n",
              "      <td>32</td>\n",
              "      <td>1</td>\n",
              "      <td>28.880</td>\n",
              "      <td>0</td>\n",
              "      <td>0</td>\n",
              "    </tr>\n",
              "  </tbody>\n",
              "</table>\n",
              "</div>"
            ],
            "text/plain": [
              "   age  sex     bmi  children  smoker\n",
              "0   19    0  27.900         0       1\n",
              "1   18    1  33.770         1       0\n",
              "2   28    1  33.000         3       0\n",
              "3   33    1  22.705         0       0\n",
              "4   32    1  28.880         0       0"
            ]
          },
          "metadata": {},
          "execution_count": 5
        }
      ]
    },
    {
      "cell_type": "code",
      "metadata": {
        "id": "qGdoClnvS00Z",
        "colab": {
          "base_uri": "https://localhost:8080/"
        },
        "outputId": "1ed24aea-6307-495a-9db1-fdb0a171d3ea"
      },
      "source": [
        "y = df['region']\n",
        "y.head()"
      ],
      "execution_count": 6,
      "outputs": [
        {
          "output_type": "execute_result",
          "data": {
            "text/plain": [
              "0    1\n",
              "1    0\n",
              "2    3\n",
              "3    2\n",
              "4    2\n",
              "Name: region, dtype: int64"
            ]
          },
          "metadata": {},
          "execution_count": 6
        }
      ]
    },
    {
      "cell_type": "code",
      "metadata": {
        "id": "G9AErJ2qS40S"
      },
      "source": [
        "X = preprocessing.StandardScaler().fit(X).transform(X.astype(float))"
      ],
      "execution_count": 7,
      "outputs": []
    },
    {
      "cell_type": "code",
      "metadata": {
        "id": "_Wo0EBr7S7KI",
        "colab": {
          "base_uri": "https://localhost:8080/"
        },
        "outputId": "24a58061-3d92-4a7b-abe7-c53bb3c37522"
      },
      "source": [
        "from sklearn.model_selection import train_test_split\n",
        "X_train, X_test, y_train, y_test = train_test_split( X, y, test_size=0.2, random_state=4)\n",
        "print ('Train set:', X_train.shape,  y_train.shape)\n",
        "print ('Test set:', X_test.shape,  y_test.shape)"
      ],
      "execution_count": 8,
      "outputs": [
        {
          "output_type": "stream",
          "name": "stdout",
          "text": [
            "Train set: (1070, 5) (1070,)\n",
            "Test set: (268, 5) (268,)\n"
          ]
        }
      ]
    },
    {
      "cell_type": "code",
      "metadata": {
        "id": "Y2UFR0r3S8ET"
      },
      "source": [
        "from sklearn.neighbors import KNeighborsClassifier\n",
        "from sklearn import metrics\n",
        "k = 10\n",
        "#Train Model and Predict  \n",
        "neigh = KNeighborsClassifier(n_neighbors = k).fit(X_train,y_train)\n",
        "Pred_y = neigh.predict(X_test)"
      ],
      "execution_count": 9,
      "outputs": []
    },
    {
      "cell_type": "code",
      "metadata": {
        "id": "6iS1r7yxS-YW",
        "colab": {
          "base_uri": "https://localhost:8080/"
        },
        "outputId": "b46e9e5f-3dee-41fb-a1ec-ceb9691e8556"
      },
      "source": [
        "print(\"Accuracy of model at K=10 is\",metrics.accuracy_score(y_test, Pred_y))"
      ],
      "execution_count": 10,
      "outputs": [
        {
          "output_type": "stream",
          "name": "stdout",
          "text": [
            "Accuracy of model at K=10 is 0.26492537313432835\n"
          ]
        }
      ]
    },
    {
      "cell_type": "code",
      "metadata": {
        "id": "vPI-CytyTCsm",
        "colab": {
          "base_uri": "https://localhost:8080/"
        },
        "outputId": "01ee53e1-f20b-4483-9b5e-407c1133fa11"
      },
      "source": [
        "Pred_y"
      ],
      "execution_count": 11,
      "outputs": [
        {
          "output_type": "execute_result",
          "data": {
            "text/plain": [
              "array([1, 2, 3, 0, 1, 2, 0, 3, 3, 0, 3, 3, 1, 0, 0, 0, 3, 0, 2, 0, 0, 0,\n",
              "       0, 1, 2, 2, 0, 0, 3, 1, 2, 2, 1, 1, 1, 3, 2, 2, 0, 0, 3, 0, 0, 2,\n",
              "       2, 3, 1, 3, 0, 2, 2, 1, 0, 1, 2, 3, 3, 3, 2, 0, 3, 1, 0, 3, 0, 0,\n",
              "       3, 0, 3, 2, 1, 2, 3, 0, 0, 0, 1, 2, 0, 1, 3, 0, 0, 1, 0, 2, 0, 3,\n",
              "       0, 1, 0, 0, 1, 2, 0, 0, 0, 1, 3, 0, 0, 2, 2, 0, 3, 0, 0, 0, 0, 1,\n",
              "       3, 2, 0, 0, 3, 3, 0, 0, 0, 3, 3, 2, 1, 0, 1, 0, 2, 0, 2, 0, 3, 0,\n",
              "       1, 1, 0, 3, 0, 2, 1, 2, 0, 2, 0, 0, 0, 2, 3, 2, 0, 3, 2, 0, 0, 1,\n",
              "       0, 0, 0, 3, 1, 0, 2, 2, 2, 0, 2, 3, 1, 1, 0, 0, 0, 0, 3, 3, 0, 1,\n",
              "       0, 2, 3, 0, 2, 0, 2, 0, 2, 3, 1, 3, 0, 0, 0, 1, 0, 0, 1, 3, 0, 1,\n",
              "       0, 1, 0, 0, 0, 0, 0, 3, 3, 0, 0, 1, 3, 0, 3, 3, 3, 3, 3, 3, 3, 0,\n",
              "       0, 2, 2, 1, 0, 0, 1, 0, 2, 1, 0, 1, 2, 1, 1, 0, 1, 3, 0, 0, 0, 0,\n",
              "       3, 2, 0, 1, 1, 3, 3, 3, 1, 2, 0, 1, 3, 3, 0, 1, 0, 0, 0, 1, 3, 0,\n",
              "       3, 0, 0, 1])"
            ]
          },
          "metadata": {},
          "execution_count": 11
        }
      ]
    },
    {
      "cell_type": "code",
      "metadata": {
        "id": "sbOzSZIaTCyZ",
        "colab": {
          "base_uri": "https://localhost:8080/",
          "height": 421
        },
        "outputId": "47567637-83d8-4694-d13a-3672a2e0131e"
      },
      "source": [
        "error_rate = []\n",
        "for i in range(1,40): \n",
        " knn = KNeighborsClassifier(n_neighbors=i)\n",
        " knn.fit(X_train,y_train)\n",
        " pred_i = knn.predict(X_test)\n",
        " error_rate.append(np.mean(pred_i != y_test))\n",
        "\n",
        "plt.figure(figsize=(10,6))\n",
        "plt.plot(range(1,40),error_rate,color='RED', linestyle='dashed', marker='o',markerfacecolor='blue', markersize=10)\n",
        "plt.title('Error Rate vs. K Value')\n",
        "plt.xlabel('K')\n",
        "plt.ylabel('Error Rate')\n",
        "\n",
        "print(\"Minimum error:-\",min(error_rate),\"at K =\",error_rate.index(min(error_rate)))"
      ],
      "execution_count": 13,
      "outputs": [
        {
          "output_type": "stream",
          "name": "stdout",
          "text": [
            "Minimum error:- 0.6716417910447762 at K = 26\n"
          ]
        },
        {
          "output_type": "display_data",
          "data": {
            "image/png": "[encoded data removed]",
            "text/plain": [
              "<Figure size 720x432 with 1 Axes>"
            ]
          },
          "metadata": {
            "needs_background": "light"
          }
        }
      ]
    },
    {
      "cell_type": "code",
      "metadata": {
        "id": "bb68EmJfTOyZ"
      },
      "source": [
        "acc = []\n",
        "from sklearn import metrics\n",
        "for i in range(1,40):\n",
        "    neigh = KNeighborsClassifier(n_neighbors = i).fit(X_train,y_train)\n",
        "    yhat = neigh.predict(X_test)\n",
        "    acc.append(metrics.accuracy_score(y_test, yhat))"
      ],
      "execution_count": 14,
      "outputs": []
    },
    {
      "cell_type": "code",
      "metadata": {
        "id": "QRv7LGQ8TTE3",
        "colab": {
          "base_uri": "https://localhost:8080/",
          "height": 421
        },
        "outputId": "09ee179d-5520-42f9-a01d-96e59b034357"
      },
      "source": [
        "plt.figure(figsize=(10,6))\n",
        "plt.plot(range(1,40),acc,color = 'red',linestyle='dashed', marker='o',markerfacecolor='blue', markersize=10)\n",
        "plt.title('accuracy vs. K Value')\n",
        "plt.xlabel('K')\n",
        "plt.ylabel('Accuracy')\n",
        "\n",
        "print(\"Maximum accuracy:-\",max(acc),\"at K =\",acc.index(max(acc)))"
      ],
      "execution_count": 16,
      "outputs": [
        {
          "output_type": "stream",
          "name": "stdout",
          "text": [
            "Maximum accuracy:- 0.3283582089552239 at K = 26\n"
          ]
        },
        {
          "output_type": "display_data",
          "data": {
            "image/png": "[encoded data removed]",
            "text/plain": [
              "<Figure size 720x432 with 1 Axes>"
            ]
          },
          "metadata": {
            "needs_background": "light"
          }
        }
      ]
    },
    {
      "cell_type": "markdown",
      "metadata": {
        "id": "vyYENjmCT6Po"
      },
      "source": [
        "**CONCLUSION OPTIMAL K VALUE FOR THE GIVEN DATASET IS 26.**"
      ]
    }
  ]
}