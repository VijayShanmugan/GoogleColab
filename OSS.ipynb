{
  "nbformat": 4,
  "nbformat_minor": 0,
  "metadata": {
    "colab": {
      "name": "OSS.ipynb",
      "provenance": [],
      "collapsed_sections": [],
      "authorship_tag": "ABX9TyOx7MfnYicDKJAEjUC3gz8Z",
      "include_colab_link": true
    },
    "kernelspec": {
      "name": "python3",
      "display_name": "Python 3"
    },
    "language_info": {
      "name": "python"
    }
  },
  "cells": [
    {
      "cell_type": "markdown",
      "metadata": {
        "id": "view-in-github",
        "colab_type": "text"
      },
      "source": [
        "<a href=\"https://colab.research.google.com/github/VijayShanmugan/GoogleColab/blob/main/OSS.ipynb\" target=\"_parent\"><img src=\"https://colab.research.google.com/assets/colab-badge.svg\" alt=\"Open In Colab\"/></a>"
      ]
    },
    {
      "cell_type": "markdown",
      "metadata": {
        "id": "ayO4WlHMlha4"
      },
      "source": [
        "**Python - numpy, pandas, matplotlib**"
      ]
    },
    {
      "cell_type": "code",
      "metadata": {
        "id": "9wgWiG8Glg2e"
      },
      "source": [
        "import numpy as np\n",
        "import pandas as pd\n",
        "import matplotlib.pyplot as plt"
      ],
      "execution_count": 1,
      "outputs": []
    },
    {
      "cell_type": "markdown",
      "metadata": {
        "id": "haUlDcNipXNG"
      },
      "source": [
        "**Pandas functions implementation**"
      ]
    },
    {
      "cell_type": "code",
      "metadata": {
        "colab": {
          "base_uri": "https://localhost:8080/",
          "height": 203
        },
        "id": "FZvkKO8sl2Kb",
        "outputId": "e2767f76-0a03-49e6-c790-48d034f28dff"
      },
      "source": [
        "df=pd.read_csv('https://raw.githubusercontent.com/VijayShanmugan/Datasets/main/Tokyo%20Medals%202021.csv')\n",
        "df.head()"
      ],
      "execution_count": 2,
      "outputs": [
        {
          "output_type": "execute_result",
          "data": {
            "text/html": [
              "<div>\n",
              "<style scoped>\n",
              "    .dataframe tbody tr th:only-of-type {\n",
              "        vertical-align: middle;\n",
              "    }\n",
              "\n",
              "    .dataframe tbody tr th {\n",
              "        vertical-align: top;\n",
              "    }\n",
              "\n",
              "    .dataframe thead th {\n",
              "        text-align: right;\n",
              "    }\n",
              "</style>\n",
              "<table border=\"1\" class=\"dataframe\">\n",
              "  <thead>\n",
              "    <tr style=\"text-align: right;\">\n",
              "      <th></th>\n",
              "      <th>Country</th>\n",
              "      <th>Gold Medal</th>\n",
              "      <th>Silver Medal</th>\n",
              "      <th>Bronze Medal</th>\n",
              "      <th>Total</th>\n",
              "      <th>Rank By Total</th>\n",
              "    </tr>\n",
              "  </thead>\n",
              "  <tbody>\n",
              "    <tr>\n",
              "      <th>0</th>\n",
              "      <td>United States of America</td>\n",
              "      <td>39</td>\n",
              "      <td>41</td>\n",
              "      <td>33</td>\n",
              "      <td>113</td>\n",
              "      <td>1</td>\n",
              "    </tr>\n",
              "    <tr>\n",
              "      <th>1</th>\n",
              "      <td>People's Republic of China</td>\n",
              "      <td>38</td>\n",
              "      <td>32</td>\n",
              "      <td>18</td>\n",
              "      <td>88</td>\n",
              "      <td>2</td>\n",
              "    </tr>\n",
              "    <tr>\n",
              "      <th>2</th>\n",
              "      <td>Japan</td>\n",
              "      <td>27</td>\n",
              "      <td>14</td>\n",
              "      <td>17</td>\n",
              "      <td>58</td>\n",
              "      <td>5</td>\n",
              "    </tr>\n",
              "    <tr>\n",
              "      <th>3</th>\n",
              "      <td>Great Britain</td>\n",
              "      <td>22</td>\n",
              "      <td>21</td>\n",
              "      <td>22</td>\n",
              "      <td>65</td>\n",
              "      <td>4</td>\n",
              "    </tr>\n",
              "    <tr>\n",
              "      <th>4</th>\n",
              "      <td>ROC</td>\n",
              "      <td>20</td>\n",
              "      <td>28</td>\n",
              "      <td>23</td>\n",
              "      <td>71</td>\n",
              "      <td>3</td>\n",
              "    </tr>\n",
              "  </tbody>\n",
              "</table>\n",
              "</div>"
            ],
            "text/plain": [
              "                      Country  Gold Medal  ...  Total  Rank By Total\n",
              "0    United States of America          39  ...    113              1\n",
              "1  People's Republic of China          38  ...     88              2\n",
              "2                       Japan          27  ...     58              5\n",
              "3               Great Britain          22  ...     65              4\n",
              "4                         ROC          20  ...     71              3\n",
              "\n",
              "[5 rows x 6 columns]"
            ]
          },
          "metadata": {},
          "execution_count": 2
        }
      ]
    },
    {
      "cell_type": "code",
      "metadata": {
        "id": "KG_wzDKSmD8H"
      },
      "source": [
        "table=pd.pivot_table(data=df,index=['Country','Total'],values='Rank By Total')"
      ],
      "execution_count": 4,
      "outputs": []
    },
    {
      "cell_type": "code",
      "metadata": {
        "colab": {
          "base_uri": "https://localhost:8080/",
          "height": 447
        },
        "id": "PEiLA813mX98",
        "outputId": "8259e9d4-bec3-4810-9622-d76f32ff3153"
      },
      "source": [
        "table"
      ],
      "execution_count": 5,
      "outputs": [
        {
          "output_type": "execute_result",
          "data": {
            "text/html": [
              "<div>\n",
              "<style scoped>\n",
              "    .dataframe tbody tr th:only-of-type {\n",
              "        vertical-align: middle;\n",
              "    }\n",
              "\n",
              "    .dataframe tbody tr th {\n",
              "        vertical-align: top;\n",
              "    }\n",
              "\n",
              "    .dataframe thead th {\n",
              "        text-align: right;\n",
              "    }\n",
              "</style>\n",
              "<table border=\"1\" class=\"dataframe\">\n",
              "  <thead>\n",
              "    <tr style=\"text-align: right;\">\n",
              "      <th></th>\n",
              "      <th></th>\n",
              "      <th>Rank By Total</th>\n",
              "    </tr>\n",
              "    <tr>\n",
              "      <th>Country</th>\n",
              "      <th>Total</th>\n",
              "      <th></th>\n",
              "    </tr>\n",
              "  </thead>\n",
              "  <tbody>\n",
              "    <tr>\n",
              "      <th>Argentina</th>\n",
              "      <th>3</th>\n",
              "      <td>60</td>\n",
              "    </tr>\n",
              "    <tr>\n",
              "      <th>Armenia</th>\n",
              "      <th>4</th>\n",
              "      <td>47</td>\n",
              "    </tr>\n",
              "    <tr>\n",
              "      <th>Australia</th>\n",
              "      <th>46</th>\n",
              "      <td>6</td>\n",
              "    </tr>\n",
              "    <tr>\n",
              "      <th>Austria</th>\n",
              "      <th>7</th>\n",
              "      <td>33</td>\n",
              "    </tr>\n",
              "    <tr>\n",
              "      <th>Azerbaijan</th>\n",
              "      <th>7</th>\n",
              "      <td>33</td>\n",
              "    </tr>\n",
              "    <tr>\n",
              "      <th>...</th>\n",
              "      <th>...</th>\n",
              "      <td>...</td>\n",
              "    </tr>\n",
              "    <tr>\n",
              "      <th>Uganda</th>\n",
              "      <th>4</th>\n",
              "      <td>47</td>\n",
              "    </tr>\n",
              "    <tr>\n",
              "      <th>Ukraine</th>\n",
              "      <th>19</th>\n",
              "      <td>16</td>\n",
              "    </tr>\n",
              "    <tr>\n",
              "      <th>United States of America</th>\n",
              "      <th>113</th>\n",
              "      <td>1</td>\n",
              "    </tr>\n",
              "    <tr>\n",
              "      <th>Uzbekistan</th>\n",
              "      <th>5</th>\n",
              "      <td>42</td>\n",
              "    </tr>\n",
              "    <tr>\n",
              "      <th>Venezuela</th>\n",
              "      <th>4</th>\n",
              "      <td>47</td>\n",
              "    </tr>\n",
              "  </tbody>\n",
              "</table>\n",
              "<p>93 rows × 1 columns</p>\n",
              "</div>"
            ],
            "text/plain": [
              "                                Rank By Total\n",
              "Country                  Total               \n",
              "Argentina                3                 60\n",
              "Armenia                  4                 47\n",
              "Australia                46                 6\n",
              "Austria                  7                 33\n",
              "Azerbaijan               7                 33\n",
              "...                                       ...\n",
              "Uganda                   4                 47\n",
              "Ukraine                  19                16\n",
              "United States of America 113                1\n",
              "Uzbekistan               5                 42\n",
              "Venezuela                4                 47\n",
              "\n",
              "[93 rows x 1 columns]"
            ]
          },
          "metadata": {},
          "execution_count": 5
        }
      ]
    },
    {
      "cell_type": "code",
      "metadata": {
        "colab": {
          "base_uri": "https://localhost:8080/"
        },
        "id": "tU3CbhNgmfSX",
        "outputId": "6b99e295-a138-4fe2-a468-575c97002f66"
      },
      "source": [
        "df.memory_usage(deep=True)"
      ],
      "execution_count": 6,
      "outputs": [
        {
          "output_type": "execute_result",
          "data": {
            "text/plain": [
              "Index             128\n",
              "Country          6166\n",
              "Gold Medal        744\n",
              "Silver Medal      744\n",
              "Bronze Medal      744\n",
              "Total             744\n",
              "Rank By Total     744\n",
              "dtype: int64"
            ]
          },
          "metadata": {},
          "execution_count": 6
        }
      ]
    },
    {
      "cell_type": "code",
      "metadata": {
        "colab": {
          "base_uri": "https://localhost:8080/"
        },
        "id": "3AhIJRshmm14",
        "outputId": "4c70cce9-6b3a-41a9-ad39-20be6f2f6f1a"
      },
      "source": [
        "df['Total'].value_counts()"
      ],
      "execution_count": 9,
      "outputs": [
        {
          "output_type": "execute_result",
          "data": {
            "text/plain": [
              "1      17\n",
              "4      13\n",
              "2      11\n",
              "3       6\n",
              "7       6\n",
              "5       5\n",
              "8       4\n",
              "6       3\n",
              "9       3\n",
              "20      3\n",
              "11      2\n",
              "13      2\n",
              "14      1\n",
              "10      1\n",
              "12      1\n",
              "113     1\n",
              "88      1\n",
              "17      1\n",
              "19      1\n",
              "21      1\n",
              "24      1\n",
              "33      1\n",
              "36      1\n",
              "37      1\n",
              "40      1\n",
              "46      1\n",
              "58      1\n",
              "65      1\n",
              "71      1\n",
              "15      1\n",
              "Name: Total, dtype: int64"
            ]
          },
          "metadata": {},
          "execution_count": 9
        }
      ]
    },
    {
      "cell_type": "code",
      "metadata": {
        "colab": {
          "base_uri": "https://localhost:8080/"
        },
        "id": "Yvo2qjRynQ_X",
        "outputId": "9d347f22-46cc-4b64-b3e4-5cadeaa07f94"
      },
      "source": [
        "df.info()"
      ],
      "execution_count": 10,
      "outputs": [
        {
          "output_type": "stream",
          "name": "stdout",
          "text": [
            "<class 'pandas.core.frame.DataFrame'>\n",
            "RangeIndex: 93 entries, 0 to 92\n",
            "Data columns (total 6 columns):\n",
            " #   Column         Non-Null Count  Dtype \n",
            "---  ------         --------------  ----- \n",
            " 0   Country        93 non-null     object\n",
            " 1   Gold Medal     93 non-null     int64 \n",
            " 2   Silver Medal   93 non-null     int64 \n",
            " 3   Bronze Medal   93 non-null     int64 \n",
            " 4   Total          93 non-null     int64 \n",
            " 5   Rank By Total  93 non-null     int64 \n",
            "dtypes: int64(5), object(1)\n",
            "memory usage: 4.5+ KB\n"
          ]
        }
      ]
    },
    {
      "cell_type": "code",
      "metadata": {
        "colab": {
          "base_uri": "https://localhost:8080/"
        },
        "id": "j6IpTJcWnWdv",
        "outputId": "12ee6f11-0add-48e8-a97d-5c7c83257010"
      },
      "source": [
        "df.dtypes"
      ],
      "execution_count": 12,
      "outputs": [
        {
          "output_type": "execute_result",
          "data": {
            "text/plain": [
              "Country          object\n",
              "Gold Medal        int64\n",
              "Silver Medal      int64\n",
              "Bronze Medal      int64\n",
              "Total             int64\n",
              "Rank By Total     int64\n",
              "dtype: object"
            ]
          },
          "metadata": {},
          "execution_count": 12
        }
      ]
    },
    {
      "cell_type": "code",
      "metadata": {
        "colab": {
          "base_uri": "https://localhost:8080/",
          "height": 357
        },
        "id": "CKC4XKRwnhE3",
        "outputId": "970f5b24-d703-436b-a76c-9f8d6e5b2586"
      },
      "source": [
        "df.sample(n=10)"
      ],
      "execution_count": 15,
      "outputs": [
        {
          "output_type": "execute_result",
          "data": {
            "text/html": [
              "<div>\n",
              "<style scoped>\n",
              "    .dataframe tbody tr th:only-of-type {\n",
              "        vertical-align: middle;\n",
              "    }\n",
              "\n",
              "    .dataframe tbody tr th {\n",
              "        vertical-align: top;\n",
              "    }\n",
              "\n",
              "    .dataframe thead th {\n",
              "        text-align: right;\n",
              "    }\n",
              "</style>\n",
              "<table border=\"1\" class=\"dataframe\">\n",
              "  <thead>\n",
              "    <tr style=\"text-align: right;\">\n",
              "      <th></th>\n",
              "      <th>Country</th>\n",
              "      <th>Gold Medal</th>\n",
              "      <th>Silver Medal</th>\n",
              "      <th>Bronze Medal</th>\n",
              "      <th>Total</th>\n",
              "      <th>Rank By Total</th>\n",
              "    </tr>\n",
              "  </thead>\n",
              "  <tbody>\n",
              "    <tr>\n",
              "      <th>11</th>\n",
              "      <td>Brazil</td>\n",
              "      <td>7</td>\n",
              "      <td>6</td>\n",
              "      <td>8</td>\n",
              "      <td>21</td>\n",
              "      <td>12</td>\n",
              "    </tr>\n",
              "    <tr>\n",
              "      <th>32</th>\n",
              "      <td>Georgia</td>\n",
              "      <td>2</td>\n",
              "      <td>5</td>\n",
              "      <td>1</td>\n",
              "      <td>8</td>\n",
              "      <td>29</td>\n",
              "    </tr>\n",
              "    <tr>\n",
              "      <th>74</th>\n",
              "      <td>Malaysia</td>\n",
              "      <td>0</td>\n",
              "      <td>1</td>\n",
              "      <td>1</td>\n",
              "      <td>2</td>\n",
              "      <td>66</td>\n",
              "    </tr>\n",
              "    <tr>\n",
              "      <th>24</th>\n",
              "      <td>Denmark</td>\n",
              "      <td>3</td>\n",
              "      <td>4</td>\n",
              "      <td>4</td>\n",
              "      <td>11</td>\n",
              "      <td>23</td>\n",
              "    </tr>\n",
              "    <tr>\n",
              "      <th>57</th>\n",
              "      <td>Tunisia</td>\n",
              "      <td>1</td>\n",
              "      <td>1</td>\n",
              "      <td>0</td>\n",
              "      <td>2</td>\n",
              "      <td>66</td>\n",
              "    </tr>\n",
              "    <tr>\n",
              "      <th>18</th>\n",
              "      <td>Kenya</td>\n",
              "      <td>4</td>\n",
              "      <td>4</td>\n",
              "      <td>2</td>\n",
              "      <td>10</td>\n",
              "      <td>25</td>\n",
              "    </tr>\n",
              "    <tr>\n",
              "      <th>52</th>\n",
              "      <td>Austria</td>\n",
              "      <td>1</td>\n",
              "      <td>1</td>\n",
              "      <td>5</td>\n",
              "      <td>7</td>\n",
              "      <td>33</td>\n",
              "    </tr>\n",
              "    <tr>\n",
              "      <th>39</th>\n",
              "      <td>Israel</td>\n",
              "      <td>2</td>\n",
              "      <td>0</td>\n",
              "      <td>2</td>\n",
              "      <td>4</td>\n",
              "      <td>47</td>\n",
              "    </tr>\n",
              "    <tr>\n",
              "      <th>87</th>\n",
              "      <td>Côte d'Ivoire</td>\n",
              "      <td>0</td>\n",
              "      <td>0</td>\n",
              "      <td>1</td>\n",
              "      <td>1</td>\n",
              "      <td>77</td>\n",
              "    </tr>\n",
              "    <tr>\n",
              "      <th>31</th>\n",
              "      <td>Uzbekistan</td>\n",
              "      <td>3</td>\n",
              "      <td>0</td>\n",
              "      <td>2</td>\n",
              "      <td>5</td>\n",
              "      <td>42</td>\n",
              "    </tr>\n",
              "  </tbody>\n",
              "</table>\n",
              "</div>"
            ],
            "text/plain": [
              "          Country  Gold Medal  Silver Medal  Bronze Medal  Total  Rank By Total\n",
              "11         Brazil           7             6             8     21             12\n",
              "32        Georgia           2             5             1      8             29\n",
              "74       Malaysia           0             1             1      2             66\n",
              "24        Denmark           3             4             4     11             23\n",
              "57        Tunisia           1             1             0      2             66\n",
              "18          Kenya           4             4             2     10             25\n",
              "52        Austria           1             1             5      7             33\n",
              "39         Israel           2             0             2      4             47\n",
              "87  Côte d'Ivoire           0             0             1      1             77\n",
              "31     Uzbekistan           3             0             2      5             42"
            ]
          },
          "metadata": {},
          "execution_count": 15
        }
      ]
    },
    {
      "cell_type": "code",
      "metadata": {
        "colab": {
          "base_uri": "https://localhost:8080/"
        },
        "id": "PIvBiRElnnEd",
        "outputId": "58c1cb56-bd91-43c7-e5c8-df3ad50f6b95"
      },
      "source": [
        "df.nunique()"
      ],
      "execution_count": 14,
      "outputs": [
        {
          "output_type": "execute_result",
          "data": {
            "text/plain": [
              "Country          93\n",
              "Gold Medal       14\n",
              "Silver Medal     17\n",
              "Bronze Medal     21\n",
              "Total            30\n",
              "Rank By Total    30\n",
              "dtype: int64"
            ]
          },
          "metadata": {},
          "execution_count": 14
        }
      ]
    },
    {
      "cell_type": "markdown",
      "metadata": {
        "id": "tvHPPBALpfrk"
      },
      "source": [
        "**Numpy functions implementations**"
      ]
    },
    {
      "cell_type": "code",
      "metadata": {
        "colab": {
          "base_uri": "https://localhost:8080/",
          "height": 295
        },
        "id": "4avHEs3aqrlL",
        "outputId": "215c0a2a-6f40-4d46-84fc-19758a11ffb8"
      },
      "source": [
        "medals = np.asarray(df.Total[:30])\n",
        "country = np.asarray(df.Country[:30])\n",
        "plt.scatter(x=medals, y=country)\n",
        "plt.xlabel('Medals')\n",
        "plt.ylabel('Country')\n",
        "plt.title('Relationship between Country and Medals')\n",
        "plt.show()"
      ],
      "execution_count": 23,
      "outputs": [
        {
          "output_type": "display_data",
          "data": {
            "image/png": "[encoded data removed]",
            "text/plain": [
              "<Figure size 432x288 with 1 Axes>"
            ]
          },
          "metadata": {
            "needs_background": "light"
          }
        }
      ]
    },
    {
      "cell_type": "code",
      "metadata": {
        "colab": {
          "base_uri": "https://localhost:8080/"
        },
        "id": "Bey9KQOzsyf6",
        "outputId": "b47daa7c-87d4-4e4e-b5f1-5556c4306fd9"
      },
      "source": [
        "print('The mean of medals in the dataset is:',df['Total'].mean())\n",
        "print('The highest obtained medal(in quantity) in the dataset is:',df['Total'].max())\n",
        "print('The lowest obtained medal(in quantity) in the dataset is:',df['Total'].min())\n",
        "print('The total sum of medals in the dataset is:',df['Total'].sum())"
      ],
      "execution_count": 24,
      "outputs": [
        {
          "output_type": "stream",
          "name": "stdout",
          "text": [
            "The mean of medals in the dataset is: 11.612903225806452\n",
            "The highest obtained medal(in quantity) in the dataset is: 113\n",
            "The lowest obtained medal(in quantity) in the dataset is: 1\n",
            "The total sum of medals in the dataset is: 1080\n"
          ]
        }
      ]
    },
    {
      "cell_type": "code",
      "metadata": {
        "colab": {
          "base_uri": "https://localhost:8080/"
        },
        "id": "mFyPvsbruNoF",
        "outputId": "f7d847a9-f5ed-4ffa-a1db-30e5f10be8ab"
      },
      "source": [
        "print('Medals Array :','\\n',medals)\n",
        "print('Size of array :',medals.size)"
      ],
      "execution_count": 30,
      "outputs": [
        {
          "output_type": "stream",
          "name": "stdout",
          "text": [
            "Medals Array : \n",
            " [113  88  58  65  71  46  36  33  37  40  24  21  20  15  20  20  14  11\n",
            "  10   8   9  17   9  13  11   8   7   9   7   6]\n",
            "Size of array : 30\n"
          ]
        }
      ]
    },
    {
      "cell_type": "code",
      "metadata": {
        "colab": {
          "base_uri": "https://localhost:8080/"
        },
        "id": "TKQCAvjkuohT",
        "outputId": "047a6200-af3f-4077-f014-b67f25f44d57"
      },
      "source": [
        "print('Reshaping of medals array','\\n',np.reshape(medals,(5,6)))\n",
        "trans = np.transpose(medals)\n",
        "print('Transpose of medals array','\\n',trans)"
      ],
      "execution_count": 35,
      "outputs": [
        {
          "output_type": "stream",
          "name": "stdout",
          "text": [
            "Reshaping of medals array \n",
            " [[113  88  58  65  71  46]\n",
            " [ 36  33  37  40  24  21]\n",
            " [ 20  15  20  20  14  11]\n",
            " [ 10   8   9  17   9  13]\n",
            " [ 11   8   7   9   7   6]]\n",
            "Transpose of medals array \n",
            " [113  88  58  65  71  46  36  33  37  40  24  21  20  15  20  20  14  11\n",
            "  10   8   9  17   9  13  11   8   7   9   7   6]\n"
          ]
        }
      ]
    },
    {
      "cell_type": "markdown",
      "metadata": {
        "id": "6WjyCwOawhLy"
      },
      "source": [
        "**Matplotlib functions Implementations**"
      ]
    },
    {
      "cell_type": "code",
      "metadata": {
        "colab": {
          "base_uri": "https://localhost:8080/",
          "height": 295
        },
        "id": "kCUXu1y6wgAW",
        "outputId": "418ed7d1-15b7-4241-a2ff-33ca3597b10c"
      },
      "source": [
        "plt.bar(df.Total[:30],df.Country[:30],color='blue',width=3.5)\n",
        "plt.xlabel('Total')\n",
        "plt.ylabel('Country')\n",
        "plt.title('Country and medals')\n",
        "plt.show()"
      ],
      "execution_count": 40,
      "outputs": [
        {
          "output_type": "display_data",
          "data": {
            "image/png": "[encoded data removed]",
            "text/plain": [
              "<Figure size 432x288 with 1 Axes>"
            ]
          },
          "metadata": {
            "needs_background": "light"
          }
        }
      ]
    },
    {
      "cell_type": "code",
      "metadata": {
        "colab": {
          "base_uri": "https://localhost:8080/",
          "height": 312
        },
        "id": "WgiKXcODxkFV",
        "outputId": "3fad6abb-3967-461a-e343-aad0b7887025"
      },
      "source": [
        "plt.scatter(df.Total[:30],df.Country[:30],color= \"blue\",marker= \"^\")\n",
        "plt.xlabel('Medals')\n",
        "plt.ylabel('Country')\n",
        "plt.title('Country and its respective medals')"
      ],
      "execution_count": 42,
      "outputs": [
        {
          "output_type": "execute_result",
          "data": {
            "text/plain": [
              "Text(0.5, 1.0, 'Country and its respective medals')"
            ]
          },
          "metadata": {},
          "execution_count": 42
        },
        {
          "output_type": "display_data",
          "data": {
            "image/png": "[encoded data removed]",
            "text/plain": [
              "<Figure size 432x288 with 1 Axes>"
            ]
          },
          "metadata": {
            "needs_background": "light"
          }
        }
      ]
    },
    {
      "cell_type": "code",
      "metadata": {
        "colab": {
          "base_uri": "https://localhost:8080/",
          "height": 295
        },
        "id": "KFpv0PMsx6b6",
        "outputId": "c958f410-b818-4008-9f43-54e2bb06a480"
      },
      "source": [
        "plt.plot(df.Total[:20],df.Country[:20], \"o\")\n",
        "plt.xlabel('Medals')\n",
        "plt.ylabel('Country')\n",
        "plt.title('Country and its respective medals')\n",
        "plt.show()"
      ],
      "execution_count": 45,
      "outputs": [
        {
          "output_type": "display_data",
          "data": {
            "image/png": "[encoded data removed]",
            "text/plain": [
              "<Figure size 432x288 with 1 Axes>"
            ]
          },
          "metadata": {
            "needs_background": "light"
          }
        }
      ]
    },
    {
      "cell_type": "markdown",
      "metadata": {
        "id": "Cm2bSPzazX7I"
      },
      "source": [
        "**Matplotlib implementations for user defined arrays**"
      ]
    },
    {
      "cell_type": "code",
      "metadata": {
        "colab": {
          "base_uri": "https://localhost:8080/",
          "height": 295
        },
        "id": "1EmJXgeFzk3j",
        "outputId": "59240980-64d8-4e9e-bf1f-cd88632b74a5"
      },
      "source": [
        " rank = [1,2,3,4,5]  \n",
        " gold =[39,98,27,22,20]\n",
        " silver = [41,22,14,21,28]\n",
        " bronze =[33,17,18,22,23] \n",
        " plt.plot([],[],color='m', label='Gold', linewidth=5)\n",
        " plt.plot([],[],color='c', label='Silver', linewidth=5)\n",
        " plt.plot([],[],color='r', label='Bronze', linewidth=5)  \n",
        " plt.stackplot(rank, gold, silver, bronze, colors=['m','c','r'])\n",
        " plt.xlabel('Rank')\n",
        " plt.ylabel('Medals')\n",
        " plt.title('Stack Plot')\n",
        " plt.legend()\n",
        " plt.show()"
      ],
      "execution_count": 47,
      "outputs": [
        {
          "output_type": "display_data",
          "data": {
            "image/png": "[encoded data removed]",
            "text/plain": [
              "<Figure size 432x288 with 1 Axes>"
            ]
          },
          "metadata": {
            "needs_background": "light"
          }
        }
      ]
    },
    {
      "cell_type": "code",
      "metadata": {
        "colab": {
          "base_uri": "https://localhost:8080/",
          "height": 264
        },
        "id": "5T8WTwLQ03KR",
        "outputId": "6c40465b-53df-4a7f-83f2-7fc6bcd65d3c"
      },
      "source": [
        " rank = [1,2,3]  \n",
        " gold =[39,98,27]\n",
        " silver = [41,22,14]\n",
        " bronze =[33,17,18] \n",
        " total =[113,58,88]\n",
        " a=['gold','silver','bronze']\n",
        " c=['c','r','b']\n",
        " plt.pie(total,\n",
        "  labels=a,\n",
        "  colors=c,\n",
        "  startangle=90,\n",
        "  shadow= True,\n",
        "  explode=(0,0.1,0),\n",
        "  autopct='%1.1f%%')\n",
        "plt.title('Pie Plot')\n",
        "plt.show()"
      ],
      "execution_count": 50,
      "outputs": [
        {
          "output_type": "display_data",
          "data": {
            "image/png": "[encoded data removed]",
            "text/plain": [
              "<Figure size 432x288 with 1 Axes>"
            ]
          },
          "metadata": {}
        }
      ]
    }
  ]
}